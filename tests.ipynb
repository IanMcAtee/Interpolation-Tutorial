{
 "cells": [
  {
   "cell_type": "code",
   "execution_count": null,
   "metadata": {},
   "outputs": [],
   "source": [
    "'''\n",
    "Script: tests.ipynb\n",
    "Author: Ian McAtee\n",
    "Date: November 25, 2024\n",
    "Description: \n",
    "    Python notebook containing tests for module interp.py\n",
    "    Tests compare the following image interpolation methods \n",
    "    against openCV standards:\n",
    "        - Nearest Neighbor\n",
    "        - Bilinear\n",
    "        - Bicubic\n",
    "'''"
   ]
  },
  {
   "cell_type": "code",
   "execution_count": 2,
   "metadata": {},
   "outputs": [],
   "source": [
    "# Import our interpolation module \n",
    "import interp\n",
    "\n",
    "# Import necessary packages\n",
    "import numpy as np\n",
    "import matplotlib.pyplot as plt\n",
    "import cv2\n",
    "\n",
    "# Function to check array equality within an error threshold\n",
    "def check_equal(testArr, truthArr, errorThresh = 0):\n",
    "  isEqual = True\n",
    "  if testArr.shape != truthArr.shape:\n",
    "    return False\n",
    "  for i in range(testArr.shape[0]):\n",
    "    for j in range(testArr.shape[1]):\n",
    "      if abs(testArr[i,j] - truthArr[i,j]) > errorThresh:\n",
    "        print(f\"Error at {i},{j} \")\n",
    "        print(f\"Value: {testArr[i,j]}\")\n",
    "        print(f\"Expected: {truthArr[i,j]}\")\n",
    "        isEqual = False\n",
    "  return isEqual"
   ]
  },
  {
   "cell_type": "code",
   "execution_count": null,
   "metadata": {},
   "outputs": [],
   "source": []
  },
  {
   "cell_type": "code",
   "execution_count": null,
   "metadata": {},
   "outputs": [],
   "source": []
  }
 ],
 "metadata": {
  "kernelspec": {
   "display_name": "ImageProcessing",
   "language": "python",
   "name": "python3"
  },
  "language_info": {
   "codemirror_mode": {
    "name": "ipython",
    "version": 3
   },
   "file_extension": ".py",
   "mimetype": "text/x-python",
   "name": "python",
   "nbconvert_exporter": "python",
   "pygments_lexer": "ipython3",
   "version": "3.12.3"
  }
 },
 "nbformat": 4,
 "nbformat_minor": 2
}
